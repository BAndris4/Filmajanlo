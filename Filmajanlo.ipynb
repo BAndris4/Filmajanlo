{
 "cells": [
  {
   "cell_type": "code",
   "execution_count": null,
   "metadata": {
    "colab": {
     "base_uri": "https://localhost:8080/"
    },
    "executionInfo": {
     "elapsed": 4622,
     "status": "ok",
     "timestamp": 1732637716520,
     "user": {
      "displayName": "András Balogh",
      "userId": "17892631898251899914"
     },
     "user_tz": -60
    },
    "id": "01AxbqrJNGBu",
    "outputId": "f98c9a24-672d-43f2-c153-e5805dd7a36e"
   },
   "outputs": [],
   "source": [
    "import pandas as pd\n",
    "\n",
    "df = pd.read_csv(\"hf://datasets/MGV12/Movies_Summary_5K/train.csv\")"
   ]
  },
  {
   "cell_type": "code",
   "execution_count": null,
   "metadata": {
    "colab": {
     "base_uri": "https://localhost:8080/",
     "height": 206
    },
    "executionInfo": {
     "elapsed": 6,
     "status": "ok",
     "timestamp": 1732637716522,
     "user": {
      "displayName": "András Balogh",
      "userId": "17892631898251899914"
     },
     "user_tz": -60
    },
    "id": "w7_EIEX7NN9R",
    "outputId": "5020fd48-b518-40e8-da4c-62f4dd51f42a"
   },
   "outputs": [],
   "source": [
    "df.head()"
   ]
  },
  {
   "cell_type": "markdown",
   "metadata": {
    "id": "P7HR2J4NOCK3"
   },
   "source": [
    "**Text Cleaning**"
   ]
  },
  {
   "cell_type": "markdown",
   "metadata": {
    "id": "W181Sj3rrj0D"
   },
   "source": [
    "Kisbetűsítés"
   ]
  },
  {
   "cell_type": "code",
   "execution_count": null,
   "metadata": {
    "id": "uuvMFOr8OEm6"
   },
   "outputs": [],
   "source": [
    "df['Movie Description'] = df['Movie Description'].str.lower()"
   ]
  },
  {
   "cell_type": "markdown",
   "metadata": {
    "id": "qYPXzVcorlND"
   },
   "source": [
    "Speciális karakterek eltávolítása"
   ]
  },
  {
   "cell_type": "code",
   "execution_count": null,
   "metadata": {
    "id": "C2ePM09VOF4W"
   },
   "outputs": [],
   "source": [
    "import re\n",
    "\n",
    "def remove_special_characters(text):\n",
    "  text = re.sub(r'[^a-zA-Z0-9\\s]', '', text)\n",
    "  return text\n",
    "\n",
    "df['Movie Description'] = df['Movie Description'].apply(remove_special_characters)"
   ]
  },
  {
   "cell_type": "markdown",
   "metadata": {
    "id": "jnvPgFiYr3uQ"
   },
   "source": [
    "Stopword-ök eltávolítása"
   ]
  },
  {
   "cell_type": "code",
   "execution_count": null,
   "metadata": {
    "colab": {
     "base_uri": "https://localhost:8080/"
    },
    "collapsed": true,
    "executionInfo": {
     "elapsed": 8689,
     "status": "ok",
     "timestamp": 1732637731277,
     "user": {
      "displayName": "András Balogh",
      "userId": "17892631898251899914"
     },
     "user_tz": -60
    },
    "id": "W5DMkTElOJ_g",
    "outputId": "0d5371ba-e319-4945-ee79-d8fc0d55fbd2"
   },
   "outputs": [],
   "source": [
    "import nltk\n",
    "nltk.download('stopwords')\n",
    "from nltk.corpus import stopwords\n",
    "\n",
    "stop_words = set(stopwords.words('english'))\n",
    "\n",
    "def remove_stopwords(text):\n",
    "    words = text.split()\n",
    "    filtered_words = [word for word in words if word not in stop_words]\n",
    "    return \" \".join(filtered_words)\n",
    "\n",
    "df['Movie Description'] = df['Movie Description'].apply(remove_stopwords)"
   ]
  },
  {
   "cell_type": "markdown",
   "metadata": {
    "id": "g4qYivHDr9XP"
   },
   "source": [
    "Stemming"
   ]
  },
  {
   "cell_type": "code",
   "execution_count": null,
   "metadata": {
    "id": "55H2WlLwOMmD"
   },
   "outputs": [],
   "source": [
    "from nltk.stem import PorterStemmer\n",
    "\n",
    "stemmer = PorterStemmer()\n",
    "\n",
    "def stem_text(text):\n",
    "    words = text.split()\n",
    "    stemmed_words = [stemmer.stem(word) for word in words]\n",
    "    return \" \".join(stemmed_words)\n",
    "\n",
    "df['Movie Description'] = df['Movie Description'].apply(stem_text)"
   ]
  },
  {
   "cell_type": "markdown",
   "metadata": {
    "id": "oJz_X08HsDdf"
   },
   "source": [
    "Tesztelés"
   ]
  },
  {
   "cell_type": "code",
   "execution_count": null,
   "metadata": {
    "colab": {
     "base_uri": "https://localhost:8080/"
    },
    "collapsed": true,
    "executionInfo": {
     "elapsed": 9912,
     "status": "ok",
     "timestamp": 1732637749122,
     "user": {
      "displayName": "András Balogh",
      "userId": "17892631898251899914"
     },
     "user_tz": -60
    },
    "id": "kx8N9CcwONkA",
    "outputId": "aa765e1a-f780-4c85-ca56-e15c77a8ab91"
   },
   "outputs": [],
   "source": [
    "# prompt: Create a python code where you test that the text cleaning was successfull to df[\"Movie Description\"]. Check if the lowering, removing special characters, \"directed by\", \"film\", stopwords and the stemming was successful for all descriptions. Show which one failed. Show progress bar\n",
    "\n",
    "import pandas as pd\n",
    "import re\n",
    "import nltk\n",
    "from nltk.corpus import stopwords\n",
    "from nltk.stem import PorterStemmer\n",
    "from tqdm import tqdm\n",
    "\n",
    "# Assuming df is already loaded and processed as in the previous code\n",
    "\n",
    "# Download necessary NLTK data (if not already downloaded)\n",
    "nltk.download('stopwords', quiet=True)\n",
    "\n",
    "# Function to test individual cleaning steps\n",
    "def test_cleaning(text):\n",
    "    original_text = text\n",
    "\n",
    "    # Lowering\n",
    "    text = text.lower()\n",
    "    if text != original_text.lower():\n",
    "      return \"Lowering failed\", original_text, text\n",
    "\n",
    "    # Special Characters\n",
    "    text = re.sub(r'[^a-zA-Z0-9\\s]', '', text)\n",
    "    if any(c not in \"abcdefghijklmnopqrstuvwxyz0123456789 \" for c in text):\n",
    "      return \"Special char removal failed\", original_text, text\n",
    "\n",
    "    # Stopwords\n",
    "    stop_words = set(stopwords.words('english'))\n",
    "    words = text.split()\n",
    "    filtered_words = [word for word in words if word not in stop_words]\n",
    "    text = \" \".join(filtered_words)\n",
    "    for word in text.split():\n",
    "      if word in stop_words:\n",
    "        return \"Stopword removal failed\", original_text, text\n",
    "\n",
    "    # Stemming\n",
    "    stemmer = PorterStemmer()\n",
    "    words = text.split()\n",
    "    stemmed_words = [stemmer.stem(word) for word in words]\n",
    "    text = \" \".join(stemmed_words)\n",
    "\n",
    "    return \"Success\", original_text, text\n",
    "\n",
    "# Test cleaning for each description with a progress bar\n",
    "failed_tests = []\n",
    "for index, row in tqdm(df.iterrows(), total=df.shape[0], desc=\"Testing cleaning\"):\n",
    "  result, original, cleaned = test_cleaning(row[\"Movie Description\"])\n",
    "  if result != \"Success\":\n",
    "    failed_tests.append((index, result, original, cleaned))\n",
    "\n",
    "print(\"\\nCleaning tests completed.\")\n",
    "\n",
    "if failed_tests:\n",
    "  print(f\"\\n{len(failed_tests)} descriptions failed cleaning tests:\")\n",
    "  for index, result, original, cleaned in failed_tests:\n",
    "      print(f\"Index: {index}, Test: {result}\")\n",
    "      print(f\"Original Text:\\n{original}\\nCleaned Text:\\n{cleaned}\\n\")\n",
    "else:\n",
    "  print(\"\\nAll descriptions passed the cleaning tests.\")"
   ]
  },
  {
   "cell_type": "markdown",
   "metadata": {
    "id": "Hder0m8VObuS"
   },
   "source": [
    "**Text Cleaning (Title)**"
   ]
  },
  {
   "cell_type": "markdown",
   "metadata": {
    "id": "JtGmSzIosGZo"
   },
   "source": [
    "Kisbetűsítés"
   ]
  },
  {
   "cell_type": "code",
   "execution_count": null,
   "metadata": {
    "id": "qDTV-a_XOeKA"
   },
   "outputs": [],
   "source": [
    "# prompt: Create a python code where you lower the df[\"Movie Title\"] column\n",
    "\n",
    "df['Movie Title Cleaned'] = df['Movie Title'].str.lower()"
   ]
  },
  {
   "cell_type": "markdown",
   "metadata": {
    "id": "bK0bxyuPsH19"
   },
   "source": [
    "Évszám, eredeti nyelvű cím kiszedése"
   ]
  },
  {
   "cell_type": "code",
   "execution_count": null,
   "metadata": {
    "id": "heCYs3zEOfrU"
   },
   "outputs": [],
   "source": [
    "# prompt: Create a python code where you remove from df[\"Movie Title\"] the years and the real title of the movie. Years looks like \"(year)\" and the real title looks like \"(title)\"\n",
    "\n",
    "def clean_movie_title(title):\n",
    "    # Remove years (e.g., (2000))\n",
    "    title = re.sub(r'\\(\\d{4}\\)', '', title)\n",
    "    # Remove real titles (e.g., (title))\n",
    "    title = re.sub(r'\\(.*?\\)', '', title)\n",
    "    # Remove extra whitespace\n",
    "    title = title.strip()\n",
    "    return title\n",
    "\n",
    "df['Movie Title Cleaned'] = df['Movie Title Cleaned'].apply(clean_movie_title)"
   ]
  },
  {
   "cell_type": "markdown",
   "metadata": {
    "id": "t66Y5ibLsMRu"
   },
   "source": [
    "Speciális karakterek kiszedése"
   ]
  },
  {
   "cell_type": "code",
   "execution_count": null,
   "metadata": {
    "id": "c5WuYF8IOh8N"
   },
   "outputs": [],
   "source": [
    "# prompt: Create a python code where you remove special characters from df[\"Movie Title Cleaned\"]\n",
    "\n",
    "def remove_special_characters_title(text):\n",
    "    text = re.sub(r'[^a-zA-Z0-9\\s]', '', text)\n",
    "    return text\n",
    "\n",
    "df['Movie Title Cleaned'] = df['Movie Title Cleaned'].apply(remove_special_characters_title)"
   ]
  },
  {
   "cell_type": "markdown",
   "metadata": {
    "id": "cIS7Dc4rsOlH"
   },
   "source": [
    "Szóközök kiszedése"
   ]
  },
  {
   "cell_type": "code",
   "execution_count": null,
   "metadata": {
    "id": "OOAdNDPiOn0Y"
   },
   "outputs": [],
   "source": [
    "# prompt: Create a python code where you remove spaces from df[\"Movie Title Cleaned\"]\n",
    "\n",
    "def remove_spaces(text):\n",
    "    return text.replace(\" \", \"\")\n",
    "\n",
    "df['Movie Title Cleaned'] = df['Movie Title Cleaned'].apply(remove_spaces)"
   ]
  },
  {
   "cell_type": "markdown",
   "metadata": {
    "id": "rs0aID_KOyyg"
   },
   "source": [
    "Embedding (GloVe)"
   ]
  },
  {
   "cell_type": "code",
   "execution_count": null,
   "metadata": {
    "id": "76bQ4nRAOydg"
   },
   "outputs": [],
   "source": [
    "import pandas as pd\n",
    "\n",
    "df_glove = pd.read_parquet(\"hf://datasets/karmiq/glove/glove.6B.50d.parquet\")\n",
    "glove_dict = df_glove.set_index('word').T.to_dict('list')"
   ]
  },
  {
   "cell_type": "code",
   "execution_count": null,
   "metadata": {
    "colab": {
     "base_uri": "https://localhost:8080/",
     "height": 206
    },
    "executionInfo": {
     "elapsed": 382,
     "status": "ok",
     "timestamp": 1732638179448,
     "user": {
      "displayName": "András Balogh",
      "userId": "17892631898251899914"
     },
     "user_tz": -60
    },
    "id": "rCjKx4C0PAFf",
    "outputId": "78f1d5a3-ed32-4ef0-b092-29e12eb1eaa5"
   },
   "outputs": [],
   "source": [
    "df_glove.head()"
   ]
  },
  {
   "cell_type": "markdown",
   "metadata": {
    "id": "-XYL4S4DsSoS"
   },
   "source": [
    "Vektorokká alakítás"
   ]
  },
  {
   "cell_type": "code",
   "execution_count": null,
   "metadata": {
    "colab": {
     "base_uri": "https://localhost:8080/"
    },
    "executionInfo": {
     "elapsed": 907,
     "status": "ok",
     "timestamp": 1732638233624,
     "user": {
      "displayName": "András Balogh",
      "userId": "17892631898251899914"
     },
     "user_tz": -60
    },
    "id": "NNBnQSsMPCES",
    "outputId": "2bb74f5a-5c02-4bb1-f810-3d57e0d99dbe"
   },
   "outputs": [],
   "source": [
    "import pandas as pd\n",
    "import numpy as np\n",
    "import re\n",
    "from tqdm import tqdm\n",
    "\n",
    "def text_to_glove_embedding(text):\n",
    "    \"\"\"Convert a text to its GloVe embedding by averaging word vectors.\"\"\"\n",
    "    words = text.split()\n",
    "    word_vectors = [glove_dict[word] for word in words if word in glove_dict]\n",
    "    if word_vectors:\n",
    "        return np.mean(word_vectors, axis=0)\n",
    "    else:\n",
    "        return np.zeros(50)  # Return a zero vector if no words match\n",
    "\n",
    "# Use tqdm.pandas() to integrate tqdm with pandas\n",
    "tqdm.pandas()\n",
    "\n",
    "# Apply progress_apply to the DataFrame's apply method\n",
    "df['GloVe Embedding'] = df['Movie Description'].progress_apply(text_to_glove_embedding)"
   ]
  },
  {
   "cell_type": "code",
   "execution_count": null,
   "metadata": {
    "colab": {
     "base_uri": "https://localhost:8080/",
     "height": 206
    },
    "executionInfo": {
     "elapsed": 400,
     "status": "ok",
     "timestamp": 1732638249603,
     "user": {
      "displayName": "András Balogh",
      "userId": "17892631898251899914"
     },
     "user_tz": -60
    },
    "id": "DSMQv2HHSX9X",
    "outputId": "6795dc92-aaf3-478e-cc7f-1da79454fecb"
   },
   "outputs": [],
   "source": [
    "df.head()"
   ]
  },
  {
   "cell_type": "code",
   "execution_count": null,
   "metadata": {
    "colab": {
     "base_uri": "https://localhost:8080/"
    },
    "executionInfo": {
     "elapsed": 7263,
     "status": "ok",
     "timestamp": 1732638318164,
     "user": {
      "displayName": "András Balogh",
      "userId": "17892631898251899914"
     },
     "user_tz": -60
    },
    "id": "ixRBfMTWSl3u",
    "outputId": "1d72946a-cf34-4161-bb79-f75b7f6da712"
   },
   "outputs": [],
   "source": [
    "pip install fuzzywuzzy[speedup]"
   ]
  },
  {
   "cell_type": "markdown",
   "metadata": {
    "id": "DMhaQRbksUh7"
   },
   "source": [
    "Ajánlás"
   ]
  },
  {
   "cell_type": "code",
   "execution_count": null,
   "metadata": {
    "colab": {
     "base_uri": "https://localhost:8080/",
     "height": 886
    },
    "executionInfo": {
     "elapsed": 5140,
     "status": "ok",
     "timestamp": 1732640367494,
     "user": {
      "displayName": "András Balogh",
      "userId": "17892631898251899914"
     },
     "user_tz": -60
    },
    "id": "4z3rAZa5Sd8H",
    "outputId": "31dd9333-574f-4913-e951-71a38cd2aa71"
   },
   "outputs": [
    {
     "name": "stdout",
     "output_type": "stream",
     "text": [
      "Enter a movie title: Harry Potter\n",
      "The movie was not found. Did you mean one of these?\n",
      "- Harry Potter and the Deathly Hallows: Part 1 (2010) (Score: 90)\n",
      "- Harry Potter and the Order of the Phoenix (2007) (Score: 90)\n",
      "- Harry Potter and the Sorcerer's Stone (2001) (Score: 90)\n",
      "- Harry Potter and the Chamber of Secrets (2002) (Score: 90)\n",
      "- Harry Potter and the Deathly Hallows: Part 2 (2011) (Score: 90)\n",
      "Top 10 recommendations for 'Harry Potter and the Deathly Hallows: Part 1 (2010)':\n",
      "- Harry Potter and the Prisoner of Azkaban (2004) (Similarity Score: 0.9502)\n",
      "- Harry Potter and the Chamber of Secrets (2002) (Similarity Score: 0.9418)\n",
      "- Harry Potter and the Goblet of Fire (2005) (Similarity Score: 0.9405)\n",
      "- Persuasion (1995) (Similarity Score: 0.9336)\n",
      "- Four Feathers, The (1939) (Similarity Score: 0.9318)\n",
      "- Harry Potter and the Deathly Hallows: Part 2 (2011) (Similarity Score: 0.9291)\n",
      "- X-Men: The Last Stand (2006) (Similarity Score: 0.9276)\n",
      "- Places in the Heart (1984) (Similarity Score: 0.9267)\n",
      "- Back-up Plan, The (2010) (Similarity Score: 0.9267)\n",
      "- Extremely Loud and Incredibly Close (2011) (Similarity Score: 0.9258)\n"
     ]
    },
    {
     "data": {
      "image/png": "[encoded data removed]",
      "text/plain": [
       "<Figure size 800x600 with 1 Axes>"
      ]
     },
     "metadata": {},
     "output_type": "display_data"
    }
   ],
   "source": [
    "import pandas as pd\n",
    "import numpy as np\n",
    "import re\n",
    "from fuzzywuzzy import process\n",
    "from sklearn.metrics.pairwise import cosine_similarity\n",
    "import matplotlib.pyplot as plt\n",
    "import seaborn as sns\n",
    "from tqdm import tqdm\n",
    "\n",
    "def recommend_movies_glove(movie_title, top_n=10):\n",
    "    # Preprocess the input movie title\n",
    "    movie_title_cleaned = movie_title.lower()\n",
    "    movie_title_cleaned = re.sub(r'\\(\\d{4}\\)', '', movie_title_cleaned)\n",
    "    movie_title_cleaned = re.sub(r'\\(.*?\\)', '', movie_title_cleaned)\n",
    "    movie_title_cleaned = movie_title_cleaned.strip()\n",
    "\n",
    "    # Fuzzy matching if exact match is not found\n",
    "    closest_matches = process.extract(movie_title, df['Movie Title'], limit=5)\n",
    "    exact_match_indices = df.index[df['Movie Title'].str.lower() == movie_title_cleaned.lower()]\n",
    "\n",
    "    if len(exact_match_indices) > 0:\n",
    "        movie_index = exact_match_indices[0]\n",
    "    else:\n",
    "        print(\"The movie was not found. Did you mean one of these?\")\n",
    "        for match in closest_matches:\n",
    "            print(f\"- {match[0]} (Score: {match[1]})\")\n",
    "        movie_index = df.index[df['Movie Title'] == closest_matches[0][0]][0]\n",
    "\n",
    "    # Ensure embeddings are valid NumPy arrays\n",
    "    df['GloVe Embedding'] = df['GloVe Embedding'].apply(lambda x: np.array(x) if isinstance(x, (list, np.ndarray)) else np.zeros(50))\n",
    "    embeddings_matrix = np.vstack(df['GloVe Embedding'])  # Combine all embeddings into a 2D array\n",
    "\n",
    "    # Compute cosine similarity with other movies\n",
    "    movie_embedding = np.array(df['GloVe Embedding'][movie_index])\n",
    "    similarity_scores = cosine_similarity(movie_embedding, embeddings_matrix)\n",
    "    similarity_scores = similarity_scores.flatten()\n",
    "\n",
    "    # Get top N recommendations (excluding the movie itself)\n",
    "    related_movie_indices = np.argsort(similarity_scores)[::-1][1:top_n+1]\n",
    "\n",
    "    # Display recommendations\n",
    "    print(f\"Top {top_n} recommendations for '{df['Movie Title'][movie_index]}':\")\n",
    "    for i in related_movie_indices:\n",
    "        print(f\"- {df['Movie Title'][i]} (Similarity Score: {similarity_scores[i]:.4f})\")\n",
    "\n",
    "    # Visualize the top 10 matches\n",
    "    top_10_indices = np.argsort(similarity_scores)[::-1][1:11]\n",
    "    plt.figure(figsize=(8, 6))\n",
    "    sns.barplot(x=similarity_scores[top_10_indices], y=df['Movie Title'][top_10_indices])\n",
    "    plt.xlabel(\"Cosine Similarity\")\n",
    "    plt.ylabel(\"Movie Title\")\n",
    "    plt.title(f\"Top {top_n} recommendations for '{df['Movie Title'][movie_index]}'\")\n",
    "    plt.show()\n",
    "\n",
    "# Get user input\n",
    "user_movie_title = input(\"Enter a movie title: \")\n",
    "\n",
    "# Recommend movies\n",
    "recommend_movies_glove(user_movie_title)"
   ]
  }
 ],
 "metadata": {
  "accelerator": "GPU",
  "colab": {
   "authorship_tag": "ABX9TyO4tlF6L23bGlzvC1HzE1pX",
   "gpuType": "T4",
   "provenance": []
  },
  "kernelspec": {
   "display_name": "Python 3",
   "name": "python3"
  },
  "language_info": {
   "name": "python"
  }
 },
 "nbformat": 4,
 "nbformat_minor": 0
}
